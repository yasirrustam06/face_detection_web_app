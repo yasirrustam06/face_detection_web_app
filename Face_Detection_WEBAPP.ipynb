{
 "cells": [
  {
   "cell_type": "markdown",
   "id": "2b33404e",
   "metadata": {},
   "source": [
    "# Face Detection Web App"
   ]
  },
  {
   "cell_type": "raw",
   "id": "95458d4c",
   "metadata": {},
   "source": [
    "!pip install cvzone\n",
    "!pip install streamlit\n",
    "!pip install opencv-python"
   ]
  },
  {
   "cell_type": "code",
   "execution_count": null,
   "id": "a69eb526",
   "metadata": {},
   "outputs": [],
   "source": [
    "import cv2\n",
    "from cvzone.FaceDetectionModule import FaceDetector\n",
    "import streamlit as st\n",
    "\n",
    "############################################################################################\n",
    "st.title(\"Web App using opencv cvzone and streamlit\")\n",
    "st.title(\"FAce Detection\")\n",
    "run = st.checkbox(\"Run\")\n",
    "frame_window = st.image([])\n",
    "############################################################################################\n",
    "detector = FaceDetector()\n",
    "cap = cv2.VideoCapture(0)\n",
    "while True:\n",
    "    ret, img = cap.read()\n",
    "    imgRGB = cv2.cvtColor(img, cv2.COLOR_BGR2RGB)\n",
    "    face, New_Image = detector.findFaces(img)\n",
    "    frame_window.image(img)\n"
   ]
  }
 ],
 "metadata": {
  "kernelspec": {
   "display_name": "Python 3 (ipykernel)",
   "language": "python",
   "name": "python3"
  },
  "language_info": {
   "codemirror_mode": {
    "name": "ipython",
    "version": 3
   },
   "file_extension": ".py",
   "mimetype": "text/x-python",
   "name": "python",
   "nbconvert_exporter": "python",
   "pygments_lexer": "ipython3",
   "version": "3.8.13"
  }
 },
 "nbformat": 4,
 "nbformat_minor": 5
}
